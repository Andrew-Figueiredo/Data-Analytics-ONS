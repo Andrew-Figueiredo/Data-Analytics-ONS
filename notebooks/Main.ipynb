{
 "cells": [
  {
   "cell_type": "code",
   "execution_count": null,
   "id": "1b4f1396",
   "metadata": {},
   "outputs": [],
   "source": []
  },
  {
   "cell_type": "code",
   "execution_count": 2,
   "id": "8ffc50a8",
   "metadata": {},
   "outputs": [],
   "source": [
    "# Bibliotecas necessárias para a análise e Previsão de dados\n",
    "import pandas as pd\n",
    "import os"
   ]
  },
  {
   "cell_type": "markdown",
   "id": "43bcb7b2",
   "metadata": {},
   "source": [
    "# 1. Tramamento dos dados"
   ]
  },
  {
   "cell_type": "code",
   "execution_count": 31,
   "id": "8ffb9417",
   "metadata": {},
   "outputs": [
    {
     "name": "stdout",
     "output_type": "stream",
     "text": [
      "..\\data\\GERACAO_USINA_2000.csv\n"
     ]
    }
   ],
   "source": [
    "df = pd.DataFrame()\n",
    "path_data = '..\\\\data'\n",
    "files = os.listdir(path_data)\n",
    "# for file in files:\n",
    "print(path_data+ '\\\\' + files[0])\n",
    "new_df = pd.read_csv(path_data + '\\\\' + files[0], sep= ';')\n",
    "\n",
    "# pd.concat([df, new_df])\n",
    "    \n",
    "\n"
   ]
  },
  {
   "cell_type": "code",
   "execution_count": 36,
   "id": "9a8fddb1",
   "metadata": {},
   "outputs": [
    {
     "data": {
      "text/html": [
       "<div>\n",
       "<style scoped>\n",
       "    .dataframe tbody tr th:only-of-type {\n",
       "        vertical-align: middle;\n",
       "    }\n",
       "\n",
       "    .dataframe tbody tr th {\n",
       "        vertical-align: top;\n",
       "    }\n",
       "\n",
       "    .dataframe thead th {\n",
       "        text-align: right;\n",
       "    }\n",
       "</style>\n",
       "<table border=\"1\" class=\"dataframe\">\n",
       "  <thead>\n",
       "    <tr style=\"text-align: right;\">\n",
       "      <th></th>\n",
       "      <th>din_instante</th>\n",
       "      <th>id_subsistema</th>\n",
       "      <th>nom_subsistema</th>\n",
       "      <th>id_estado</th>\n",
       "      <th>nom_estado</th>\n",
       "      <th>cod_modalidadeoperacao</th>\n",
       "      <th>nom_tipousina</th>\n",
       "      <th>nom_tipocombustivel</th>\n",
       "      <th>nom_usina</th>\n",
       "      <th>ceg</th>\n",
       "      <th>val_geracao</th>\n",
       "    </tr>\n",
       "  </thead>\n",
       "  <tbody>\n",
       "    <tr>\n",
       "      <th>0</th>\n",
       "      <td>2000-01-01 00:00:00</td>\n",
       "      <td>N</td>\n",
       "      <td>NORTE</td>\n",
       "      <td>PA</td>\n",
       "      <td>PARA</td>\n",
       "      <td>TIPO I</td>\n",
       "      <td>HIDROELÉTRICA</td>\n",
       "      <td>Hidráulica</td>\n",
       "      <td>Tucuruí</td>\n",
       "      <td>UHE.PH.PA.002889-4.01</td>\n",
       "      <td>2422.5</td>\n",
       "    </tr>\n",
       "    <tr>\n",
       "      <th>1</th>\n",
       "      <td>2000-01-01 00:00:00</td>\n",
       "      <td>NE</td>\n",
       "      <td>NORDESTE</td>\n",
       "      <td>AL</td>\n",
       "      <td>ALAGOAS</td>\n",
       "      <td>TIPO I</td>\n",
       "      <td>HIDROELÉTRICA</td>\n",
       "      <td>Hidráulica</td>\n",
       "      <td>Xingó</td>\n",
       "      <td>UHE.PH.SE.027053-9.01</td>\n",
       "      <td>1995.6</td>\n",
       "    </tr>\n",
       "    <tr>\n",
       "      <th>2</th>\n",
       "      <td>2000-01-01 00:00:00</td>\n",
       "      <td>NE</td>\n",
       "      <td>NORDESTE</td>\n",
       "      <td>BA</td>\n",
       "      <td>BAHIA</td>\n",
       "      <td>Pequenas Usinas (Tipo III)</td>\n",
       "      <td>HIDROELÉTRICA</td>\n",
       "      <td>Hidráulica</td>\n",
       "      <td>Pequenas Centrais Hidroelétricas da Chesf</td>\n",
       "      <td>-</td>\n",
       "      <td>13.0</td>\n",
       "    </tr>\n",
       "    <tr>\n",
       "      <th>3</th>\n",
       "      <td>2000-01-01 00:00:00</td>\n",
       "      <td>NE</td>\n",
       "      <td>NORDESTE</td>\n",
       "      <td>BA</td>\n",
       "      <td>BAHIA</td>\n",
       "      <td>TIPO I</td>\n",
       "      <td>HIDROELÉTRICA</td>\n",
       "      <td>Hidráulica</td>\n",
       "      <td>Apolônio Sales</td>\n",
       "      <td>UHE.PH.AL.001510-5.01</td>\n",
       "      <td>202.5</td>\n",
       "    </tr>\n",
       "    <tr>\n",
       "      <th>4</th>\n",
       "      <td>2000-01-01 00:00:00</td>\n",
       "      <td>NE</td>\n",
       "      <td>NORDESTE</td>\n",
       "      <td>BA</td>\n",
       "      <td>BAHIA</td>\n",
       "      <td>TIPO I</td>\n",
       "      <td>HIDROELÉTRICA</td>\n",
       "      <td>Hidráulica</td>\n",
       "      <td>Paulo Afonso II</td>\n",
       "      <td>UHE.PH.BA.027048-2.01</td>\n",
       "      <td>269.8</td>\n",
       "    </tr>\n",
       "  </tbody>\n",
       "</table>\n",
       "</div>"
      ],
      "text/plain": [
       "          din_instante id_subsistema nom_subsistema id_estado nom_estado  \\\n",
       "0  2000-01-01 00:00:00             N          NORTE        PA       PARA   \n",
       "1  2000-01-01 00:00:00            NE       NORDESTE        AL    ALAGOAS   \n",
       "2  2000-01-01 00:00:00            NE       NORDESTE        BA      BAHIA   \n",
       "3  2000-01-01 00:00:00            NE       NORDESTE        BA      BAHIA   \n",
       "4  2000-01-01 00:00:00            NE       NORDESTE        BA      BAHIA   \n",
       "\n",
       "       cod_modalidadeoperacao  nom_tipousina nom_tipocombustivel  \\\n",
       "0                      TIPO I  HIDROELÉTRICA          Hidráulica   \n",
       "1                      TIPO I  HIDROELÉTRICA          Hidráulica   \n",
       "2  Pequenas Usinas (Tipo III)  HIDROELÉTRICA          Hidráulica   \n",
       "3                      TIPO I  HIDROELÉTRICA          Hidráulica   \n",
       "4                      TIPO I  HIDROELÉTRICA          Hidráulica   \n",
       "\n",
       "                                   nom_usina                    ceg  \\\n",
       "0                                    Tucuruí  UHE.PH.PA.002889-4.01   \n",
       "1                                      Xingó  UHE.PH.SE.027053-9.01   \n",
       "2  Pequenas Centrais Hidroelétricas da Chesf                      -   \n",
       "3                             Apolônio Sales  UHE.PH.AL.001510-5.01   \n",
       "4                            Paulo Afonso II  UHE.PH.BA.027048-2.01   \n",
       "\n",
       "   val_geracao  \n",
       "0       2422.5  \n",
       "1       1995.6  \n",
       "2         13.0  \n",
       "3        202.5  \n",
       "4        269.8  "
      ]
     },
     "execution_count": 36,
     "metadata": {},
     "output_type": "execute_result"
    }
   ],
   "source": [
    "new_df.head()\n",
    "\n",
    "\n"
   ]
  },
  {
   "cell_type": "code",
   "execution_count": null,
   "id": "48069ac3",
   "metadata": {},
   "outputs": [],
   "source": []
  },
  {
   "cell_type": "code",
   "execution_count": null,
   "id": "e7808f63",
   "metadata": {},
   "outputs": [],
   "source": []
  }
 ],
 "metadata": {
  "kernelspec": {
   "display_name": "Python 3 (ipykernel)",
   "language": "python",
   "name": "python3"
  },
  "language_info": {
   "codemirror_mode": {
    "name": "ipython",
    "version": 3
   },
   "file_extension": ".py",
   "mimetype": "text/x-python",
   "name": "python",
   "nbconvert_exporter": "python",
   "pygments_lexer": "ipython3",
   "version": "3.11.5"
  }
 },
 "nbformat": 4,
 "nbformat_minor": 5
}
